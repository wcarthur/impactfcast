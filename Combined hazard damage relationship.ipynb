{
 "cells": [
  {
   "cell_type": "markdown",
   "metadata": {},
   "source": [
    "# Combined hazard damage relationship\n",
    "\n",
    "This notebook explores the relationship between reported damage and a combination of wind and rainfall as hazard parameters. \n"
   ]
  },
  {
   "cell_type": "code",
   "execution_count": null,
   "metadata": {},
   "outputs": [],
   "source": [
    "%matplotlib notebook\n",
    "\n",
    "import os\n",
    "from os.path import join as pjoin\n",
    "\n",
    "import numpy as np\n",
    "import pandas as pd\n",
    "import geopandas as gpd\n",
    "\n",
    "import matplotlib.pyplot as plt\n",
    "\n",
    "import seaborn as sns\n"
   ]
  },
  {
   "cell_type": "code",
   "execution_count": null,
   "metadata": {},
   "outputs": [],
   "source": [
    "data_path = \"N:/georisk/HaRIA_B_Wind/projects/impact_forecasting/data/exposure/NSW/April_2015_Impact_Assessment\"\n",
    "data_path = \"C:/WorkSpace/data/derived/exposure/NSW\"\n",
    "filename = \"Property_damage_cleaned.shp\" \n",
    "filepath = pjoin(data_path, filename)"
   ]
  },
  {
   "cell_type": "code",
   "execution_count": null,
   "metadata": {},
   "outputs": [],
   "source": [
    "gdf = gpd.read_file(filepath)"
   ]
  },
  {
   "cell_type": "code",
   "execution_count": null,
   "metadata": {},
   "outputs": [],
   "source": [
    "gdf.columns"
   ]
  },
  {
   "cell_type": "code",
   "execution_count": null,
   "metadata": {},
   "outputs": [],
   "source": [
    "gdf[['EICU_Degda', 'maxwind','rainrate']]"
   ]
  },
  {
   "cell_type": "code",
   "execution_count": null,
   "metadata": {},
   "outputs": [],
   "source": [
    "gdf['EICU_Degda'].unique()"
   ]
  },
  {
   "cell_type": "code",
   "execution_count": null,
   "metadata": {},
   "outputs": [],
   "source": [
    "DMG_ORDER=['No Damage - 0%','Minor Impact - 1-25%', 'Major Impact - 26-50%', 'Severe Impact - 51-75%','Destroyed - 76-100%']\n",
    "sns.lmplot(x='maxwind', y='rainrate',hue='EICU_Degda', data=gdf, fit_reg=False, aspect=1.5,hue_order=DMG_ORDER)"
   ]
  },
  {
   "cell_type": "code",
   "execution_count": null,
   "metadata": {},
   "outputs": [],
   "source": [
    "f, axes = plt.subplots(2,3,sharex=True, sharey=True)\n",
    "\n",
    "for ax, dmgstate in zip(axes.flat, DMG_ORDER[0:]):\n",
    "    df = gdf[gdf['EICU_Degda']==dmgstate][['maxwind', 'rainrate']]\n",
    "    sns.kdeplot(df['maxwind'], df['rainrate']**2, ax=ax)\n",
    "    n = len(df)\n",
    "    ax.set_title(\"{0} (n={1})\".format(dmgstate, n), fontsize='small')\n",
    "    ax.set_xlim((0, 20))\n",
    "    ax.set_ylim((0, 15000))\n",
    "f.tight_layout()"
   ]
  },
  {
   "cell_type": "markdown",
   "metadata": {},
   "source": [
    "So it looks like adding maximum rainfall rate (kg/m2/s) as a hazard parameter will not improve the discrimination of damage states. The peak density for the destroyed buildings (n=8) overlaps with the no damage density (n=1465), and is almost colocated with the peak for minor impact.\n",
    "\n",
    "Another option would be to explore accumulated rainfall amounts."
   ]
  },
  {
   "cell_type": "code",
   "execution_count": null,
   "metadata": {},
   "outputs": [],
   "source": [
    "gdf['roofdam'].unique()"
   ]
  },
  {
   "cell_type": "code",
   "execution_count": null,
   "metadata": {},
   "outputs": [],
   "source": [
    "ROOF_DMG_ORDER = ['Stable','Minor','Moderate','Severe']\n",
    "sns.lmplot(x='maxwind', y='rainrate',hue='roofdam', data=gdf, fit_reg=False, aspect=1,hue_order=ROOF_DMG_ORDER)"
   ]
  },
  {
   "cell_type": "code",
   "execution_count": null,
   "metadata": {},
   "outputs": [],
   "source": [
    "f, axes = plt.subplots(2,2,sharex=True, sharey=True)\n",
    "\n",
    "for ax, dmgstate in zip(axes.flat, ROOF_DMG_ORDER):\n",
    "    df = gdf[gdf['roofdam']==dmgstate][['maxwind', 'rainrate']]\n",
    "    n = len(df)\n",
    "    sns.jointplot(df['maxwind'], df['rainrate'],kind='kde')# ax=ax)\n",
    "    ax.set_title(\"{0} (n={1})\".format(dmgstate, n))\n",
    "    ax.set_xlim((0, 20))\n",
    "    ax.set_ylim((0, 150))\n",
    "f.tight_layout()"
   ]
  },
  {
   "cell_type": "code",
   "execution_count": null,
   "metadata": {},
   "outputs": [],
   "source": [
    "gdf.groupby([ 'waterinund','roofdam','EICU_Degda']).agg('mean')['rainrate']"
   ]
  },
  {
   "cell_type": "code",
   "execution_count": null,
   "metadata": {},
   "outputs": [],
   "source": [
    "gdf.groupby([ 'waterinund','roofdam','EICU_Degda']).agg('mean')['maxwind']"
   ]
  },
  {
   "cell_type": "code",
   "execution_count": null,
   "metadata": {},
   "outputs": [],
   "source": [
    "gdf['EICU_Degda'].isin(['Severe Impact - 51-75%','Major Impact - 26-50%','Destroyed - 76-100%'])"
   ]
  }
 ],
 "metadata": {
  "kernelspec": {
   "display_name": "Python 3",
   "language": "python",
   "name": "python3"
  },
  "language_info": {
   "codemirror_mode": {
    "name": "ipython",
    "version": 3
   },
   "file_extension": ".py",
   "mimetype": "text/x-python",
   "name": "python",
   "nbconvert_exporter": "python",
   "pygments_lexer": "ipython3",
   "version": "3.6.1"
  }
 },
 "nbformat": 4,
 "nbformat_minor": 2
}
