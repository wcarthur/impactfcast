{
 "cells": [
  {
   "cell_type": "markdown",
   "metadata": {},
   "source": [
    "# EICU data analysis\n",
    "\n",
    "Here we run some basic analysis of the quality of data in the Emergency Information Coordination Unit (EICU) Rapid Damage Assessment data for the 2015 East Coast Low event in the Hunter Valley. \n",
    "\n",
    "There are some 2000 records in the database, covering communities from the NSW Central Coast and Hunter Valley region. \n",
    "\n",
    "We intend to use this data in conjunction with high-resolution numerical weather prediction data from the event to derive damage or fragility functions, which can then be used in an impact-based foreacting workflow for improving the information provided back to emergency managers. "
   ]
  },
  {
   "cell_type": "code",
   "execution_count": null,
   "metadata": {},
   "outputs": [],
   "source": [
    "%matplotlib inline\n",
    "import matplotlib.pyplot as plt\n",
    "\n",
    "from os.path import join as pjoin\n",
    "import pandas as pd\n",
    "import numpy as np\n",
    "\n",
    "import seaborn as sns\n",
    "sns.set_style(\"darkgrid\")\n",
    "sns.set_context(\"poster\")\n",
    "sns.set_palette(\"Set1\")"
   ]
  },
  {
   "cell_type": "code",
   "execution_count": null,
   "metadata": {},
   "outputs": [],
   "source": [
    "def percentage(df, field):\n",
    "    # This returns the percentage of records in each category,\n",
    "    # including missing values in the total number\n",
    "    pct = (df[field].value_counts()/len(df[field]))*100\n",
    "    return pct"
   ]
  },
  {
   "cell_type": "code",
   "execution_count": null,
   "metadata": {},
   "outputs": [],
   "source": [
    "dataPath = r\"X:\\georisk\\HaRIA_B_Wind\\projects\\impact_forecasting\\data\\exposure\\NSW\\April_2015_Impact_Assessment/\"\n",
    "dataFile = \"Property_Damage_cleaned.csv\"\n",
    "df = pd.read_csv(pjoin(dataPath, dataFile), skipinitialspace=True)\n",
    "df.describe()"
   ]
  },
  {
   "cell_type": "code",
   "execution_count": null,
   "metadata": {},
   "outputs": [],
   "source": [
    "df.columns"
   ]
  },
  {
   "cell_type": "markdown",
   "metadata": {},
   "source": [
    "Examine the completeness of the records. Here we show the percentage of each field with entries (we haven't yet checked the valididity of those entries)."
   ]
  },
  {
   "cell_type": "code",
   "execution_count": null,
   "metadata": {},
   "outputs": [],
   "source": [
    "qdf = pd.DataFrame(100. - 100 * df.isnull().sum()/len(df))\n",
    "qdf"
   ]
  },
  {
   "cell_type": "markdown",
   "metadata": {},
   "source": [
    "The level of damage is recorded in the `EICU_Degdamage` field, while the damage to individual structural elements is under `roofdam`, `frmecollap`, `bldleaning`, `rackingdam` and `grndmovement`. There is also a field for water inundation (`waterinund`), and a field recording the depth of water inundation (`maxwatrlev`). These fields are completed to greater and lesser degrees:"
   ]
  },
  {
   "cell_type": "code",
   "execution_count": null,
   "metadata": {},
   "outputs": [],
   "source": [
    "qdf.loc[['EICU_Degdamage', 'frmecollap', 'bldleaning', \n",
    "         'rackingdam', 'grndmovemt', 'waterinund', \n",
    "         'maxwatrlev']]"
   ]
  },
  {
   "cell_type": "markdown",
   "metadata": {},
   "source": [
    "Most of the damage-related attributes are categorical:"
   ]
  },
  {
   "cell_type": "code",
   "execution_count": null,
   "metadata": {},
   "outputs": [],
   "source": [
    "df.EICU_Degdamage.value_counts()"
   ]
  },
  {
   "cell_type": "code",
   "execution_count": null,
   "metadata": {},
   "outputs": [],
   "source": [
    "percentage(df, 'EICU_Degdamage')"
   ]
  },
  {
   "cell_type": "markdown",
   "metadata": {},
   "source": [
    "## Water-related damage\n",
    "\n",
    "Let's start by looking through the water damage fields. Water inundation can occur through multiple mechanisms: water rising up through the floor level (flood inundation), water flowing down through a property (storm), water ingress through openings (e.g. windows, doors, damage to roof, etc.). "
   ]
  },
  {
   "cell_type": "code",
   "execution_count": null,
   "metadata": {},
   "outputs": [],
   "source": [
    "df.waterinund.value_counts()"
   ]
  },
  {
   "cell_type": "code",
   "execution_count": null,
   "metadata": {},
   "outputs": [],
   "source": [
    "percentage(df, 'waterinund')"
   ]
  },
  {
   "cell_type": "markdown",
   "metadata": {},
   "source": [
    "So less than 10% of surveyed buildings were identified as inundated. There's still just under 40% of the survey population that we have no information about the state of inundation."
   ]
  },
  {
   "cell_type": "code",
   "execution_count": null,
   "metadata": {},
   "outputs": [],
   "source": [
    "df.maxwatrlev.value_counts()"
   ]
  },
  {
   "cell_type": "markdown",
   "metadata": {},
   "source": [
    "What if we look into the quality of the recorded information for inundated buildings? Here, we select all the buildings which have been identified as inundated (`waterinund='Yes'`), then look at the value counts of the categorical entries. There are a small number where there is inundation, but the `maxwatrlev` is recorded as 'Not Applicable'. "
   ]
  },
  {
   "cell_type": "code",
   "execution_count": null,
   "metadata": {},
   "outputs": [],
   "source": [
    "df[df.waterinund=='Yes']['maxwatrlev'].value_counts()"
   ]
  },
  {
   "cell_type": "code",
   "execution_count": null,
   "metadata": {},
   "outputs": [],
   "source": [
    "percentage(df[df.waterinund=='Yes'],'maxwatrlev')"
   ]
  },
  {
   "cell_type": "markdown",
   "metadata": {},
   "source": [
    "So just over 4% of buildings identified as inundated are given a maximum water level of \"Not Applicable\". The question to be asked is whether this is water ingress resulting in damage to linings (e.g. through ceilings), or an incorrectly recorded field.\n",
    "\n",
    "Around 40% of buildings identified as having been inundated had water between 5 and 300mm deep through the building. We can only presume this is above floor level.\n",
    "\n",
    "__Issue__: Is there a way to relate a forecast variable to the water level above floor height?\n",
    "\n",
    "Is it possible to identify the cause of inundation? Where there is water inundation, what is the recorded roof damage? 22 buildings are identified as having water inundation and some level of roof damage:"
   ]
  },
  {
   "cell_type": "code",
   "execution_count": null,
   "metadata": {},
   "outputs": [],
   "source": [
    "df[df.waterinund=='Yes']['roofdam'].value_counts()"
   ]
  },
  {
   "cell_type": "code",
   "execution_count": null,
   "metadata": {},
   "outputs": [],
   "source": [
    "df[df.waterinund=='Yes']['frmecollap'].value_counts()"
   ]
  },
  {
   "cell_type": "markdown",
   "metadata": {},
   "source": [
    "Is it possible to use the `eventtype` field to attribute the cause of damage to a building? Let's start with examining the value counts of unique values in this field:"
   ]
  },
  {
   "cell_type": "code",
   "execution_count": null,
   "metadata": {},
   "outputs": [],
   "source": [
    "df.eventtype.value_counts()"
   ]
  },
  {
   "cell_type": "markdown",
   "metadata": {},
   "source": [
    "The vast majority of entries recorded in the EICU data are listed as a flood event. This does seem unusual, given the event was an East Coast Low. So does this indicate the cause of damage? Unlikely, given over 1100 surveyed buildings were identified to have no water inundation, or not applicable. \n",
    "\n",
    "Is there any correspondence between `eventtype` and `waterinund`?"
   ]
  },
  {
   "cell_type": "code",
   "execution_count": null,
   "metadata": {},
   "outputs": [],
   "source": [
    "df[df.eventtype=='Flood']['waterinund'].value_counts()"
   ]
  },
  {
   "cell_type": "code",
   "execution_count": null,
   "metadata": {},
   "outputs": [],
   "source": [
    "df[df.eventtype=='Storm']['roofdam'].value_counts()"
   ]
  },
  {
   "cell_type": "markdown",
   "metadata": {},
   "source": [
    "Even when we examine 'Storm' events, there's no correlation to damage type - there's no entry where the `eventtype` is 'Storm' and damage to the roof has been recorded. "
   ]
  },
  {
   "cell_type": "code",
   "execution_count": null,
   "metadata": {},
   "outputs": [],
   "source": [
    "df[df.eventtype=='Storm']['EICU_Degdamage'].value_counts()"
   ]
  },
  {
   "cell_type": "markdown",
   "metadata": {},
   "source": [
    "Of the 188 entries identified as 'Storm' events, 164 have some level of damage (i.e. not 'No Damage'). "
   ]
  },
  {
   "cell_type": "markdown",
   "metadata": {},
   "source": [
    "What is required is a field that indicates the primary cause of damage to a building such as wind, rain, flood, hail, etc. or some combination of these. \n",
    "\n",
    "We could make an assumption that roof damage is caused by wind, but that's not always the case (what about a hail storm). Similarly, is water damage always caused by flooding? Or is there a likelihood that it was wind-driven rain leading to water ingress?\n",
    "\n",
    "A recommendation we could make to the Emergency Services is to include a field identifying the primary hazard causing damage, which is a categorical field with a set number of options that can then allow us to attribute the cause of damage, which in turn allows us to refine the damage functions.\n",
    "\n",
    "The __National Damage Assessment Data Set and Dictionary for Phase 2 Assessments Guideline__ (AFAC, 2016) could be an avenue to formalise the collection of the hazard type that drives damage. The NDA DSD contains mandatory fields for collection for a range of hazard events, but there is no field that records the physical mechanism causing damage to structures - i.e. whether it is wind, rain, flood, fire, etc. The Guideline includes an 'Event Type' field, but this is not sufficient to be able to derive damage (or fragility) functions suitable for implementation in impact-based forecasting workflows. For example, an event type of \"Cyclone\" may result in damage from winds, rainfall, or storm surge. A \"Storm\" event could entail wind damge, hail damage or flood damage (and may cover east coast lows or thunderstorms). \n",
    "\n",
    "A recommendation to emergency services would be to collect the additional contextual information on the primary physical  mechanism of damage. To achieve this, there are a number of actions required:\n",
    "\n",
    "- [ ] Check with our EM end-users about the implementation of the NDA DSD in their post-disaster survey/rapid damage assessment activities. THis would guide us on the value of using the NDA DSD to drive the required changes to data collection.\n",
    "- [ ] Identify an appropriate field, with corresponding values, that would best serve our needs\n",
    "- [ ] Clearly articulate the benefits of collecting this additional data\n",
    "- [ ] Identify with AFAC opportunities for revision of the NDA DSD\n"
   ]
  },
  {
   "cell_type": "markdown",
   "metadata": {},
   "source": [
    "### General data quality \n",
    "\n",
    "Here's an example of an incorrectly completed field. The value of 'NSWTF1' is in fact a value in the `teamid` field, but it's been transposed into the `frmecollap` field. There appear to be some similar transpositions in other fields, so maybe it's only a minor hiccup in the extraction."
   ]
  },
  {
   "cell_type": "code",
   "execution_count": null,
   "metadata": {},
   "outputs": [],
   "source": [
    "df.frmecollap.value_counts()"
   ]
  },
  {
   "cell_type": "markdown",
   "metadata": {},
   "source": [
    "\n",
    "### Just do some quick cleaning up of the data\n",
    "\n",
    "There are a number of blank fields throughout the data where a value was not entered into the dataset by the assessor. We need to keep track of the missing data, as well as the entered data, so we will find all 'NaN' values in the dataset, and change these to 'Not given' so we can include them in subsequent analyses."
   ]
  },
  {
   "cell_type": "code",
   "execution_count": null,
   "metadata": {},
   "outputs": [],
   "source": [
    "df = df.fillna('Not given')"
   ]
  },
  {
   "cell_type": "code",
   "execution_count": null,
   "metadata": {},
   "outputs": [],
   "source": [
    "df.count()"
   ]
  },
  {
   "cell_type": "code",
   "execution_count": null,
   "metadata": {},
   "outputs": [],
   "source": [
    "\n",
    "damage = df.groupby('EICU_Degdamage').count()\n",
    "damage.OBJECTID"
   ]
  },
  {
   "cell_type": "code",
   "execution_count": null,
   "metadata": {},
   "outputs": [],
   "source": [
    "order = ['No Damage - 0%', 'Minor Impact - 1-25%', 'Major Impact - 26-50%', 'Severe Impact - 51-75%', 'Destroyed - 76-100%']\n",
    "ax = sns.countplot(x=\"EICU_Degdamage\", hue=\"waterinund\", data=df, order=order)\n",
    "ax.legend(title=\"Water Damage?\", loc=1)\n",
    "ax.set_yscale(\"log\", nonposy='clip')\n",
    "plt.xticks(rotation=10)\n",
    "plt.title('Damage State and presence of water')\n",
    "plt.xlabel('Damage state')"
   ]
  },
  {
   "cell_type": "markdown",
   "metadata": {},
   "source": [
    "### Damage by roof type\n",
    "\n",
    "Is there any relationship between roof type and sustained damage? We group the data by the damage state, then look at the breakdown by roof material. i.e. what percentage of destroyed houses have tile or metal sheeting roofs? "
   ]
  },
  {
   "cell_type": "code",
   "execution_count": null,
   "metadata": {},
   "outputs": [],
   "source": [
    "temp = []\n",
    "for name, group in df.groupby('EICU_Degdamage'):\n",
    "    numingroup = group['OBJECTID'].count()\n",
    "    numroofs = group.groupby('roof').count()\n",
    "    percroofs = numroofs['OBJECTID']/numingroup*100\n",
    "    for keys in percroofs.keys():\n",
    "        temp.append((name, keys, percroofs[keys]))\n",
    "\n",
    "roofdamage = pd.DataFrame(temp, columns = ['Damage_state', 'Roof_type', 'Percent'])\n",
    "roofdamage"
   ]
  },
  {
   "cell_type": "code",
   "execution_count": null,
   "metadata": {},
   "outputs": [],
   "source": [
    "order = ['No Damage - 0%', 'Minor Impact - 1-25%', 'Major Impact - 26-50%', 'Severe Impact - 51-75%', 'Destroyed - 76-100%']\n",
    "ax = sns.factorplot(x=\"Damage_state\", y = 'Percent', hue=\"Roof_type\", data=roofdamage, order=order, kind = 'bar', size = 10)\n",
    "plt.xticks(rotation=10)\n",
    "plt.title('Damage state and roof type')\n",
    "plt.ylabel('Percent of damage category')\n",
    "plt.xlabel('Damage state')"
   ]
  },
  {
   "cell_type": "markdown",
   "metadata": {},
   "source": [
    "It doesn't appear that there is a clear relationship. The breakdown by roof material is (approximately) the same in each damage category, reflecting the overall population distribution of roof materials. \n",
    "\n",
    "### Habitability\n",
    "\n",
    "Is the `Habitable` field of a reasonable quality? We plot the number of buildings in each combination of habitability and damage category. It appears that theres a good attribution of habitability against the damage state, but the combination of damage state and habitability in the `Habitable` field is confounding. It's worth noting the AFAC National Damage Assessment Data Set Dictionary indicates the `Habitable` field should be 'Habitable', 'Not Habitable' or 'Not stated'."
   ]
  },
  {
   "cell_type": "code",
   "execution_count": null,
   "metadata": {},
   "outputs": [],
   "source": [
    "order = ['No Damage', 'Minor', 'Moderate', 'Severe', 'Total']\n",
    "order = ['No Damage - 0%', 'Minor Impact - 1-25%', 'Major Impact - 26-50%', 'Severe Impact - 51-75%', 'Destroyed - 76-100%']\n",
    "ax = sns.countplot(x=\"EICU_Degdamage\", hue=\"propstatus\", data=df, order=order)\n",
    "ax.legend(title=\"Habitable\", loc=10, bbox_to_anchor=(1.4, 0.5))\n",
    "ax.set_yscale(\"log\", nonposy='clip')\n",
    "plt.xticks(rotation=10)\n"
   ]
  },
  {
   "cell_type": "markdown",
   "metadata": {},
   "source": [
    "Is it possible to link habitability to roof material?"
   ]
  },
  {
   "cell_type": "code",
   "execution_count": null,
   "metadata": {},
   "outputs": [],
   "source": [
    "g = sns.factorplot(x=\"EICU_Degdamage\", hue=\"roof\", col=\"propstatus\", data=df, kind=\"count\", order=order, col_wrap=2)\n",
    "g.axes[0].set_yscale(\"log\", nonposy=\"clip\")"
   ]
  },
  {
   "cell_type": "markdown",
   "metadata": {},
   "source": [
    "## Damage state versus incident wind speed\n",
    "\n",
    "Now we will compare the damage state to the incident wind speeds simulated in the high-resolution ensemble forecast for the event. We've extracted the maximum wind speed at all building locations for a couple of ensemble members, then included them in the data frame. We then plot the incident wind speed against the assigned damage category for each point, and see if there's any reasonable relationship.\n",
    "\n",
    "In the first step, we multiply the incident wind speed by a factor of 1.6, which represents a conversion from 10-minute wind speed to a 3-second gust wind speed. "
   ]
  },
  {
   "cell_type": "code",
   "execution_count": null,
   "metadata": {},
   "outputs": [],
   "source": [
    "df['combined_alltimes_maxwind_stage4_ens12'] = df['combined_alltimes_maxwind_stage4_ens12'] * 1.6\n",
    "df['combined_alltimes_maxwind_stage4_ens22'] = df['combined_alltimes_maxwind_stage4_ens22'] * 1.6"
   ]
  },
  {
   "cell_type": "code",
   "execution_count": null,
   "metadata": {},
   "outputs": [],
   "source": [
    "order = ['Destroyed - 76-100%', 'Severe Impact - 51-75%', 'Major Impact - 26-50%', 'Minor Impact - 1-25%', 'No Damage - 0%']\n",
    "sns.boxplot(y = \"EICU_Degdamage\", x = \"combined_alltimes_maxwind_stage4_ens22\", data = df, order = order)\n",
    "sns.swarmplot(y = \"EICU_Degdamage\", x = \"combined_alltimes_maxwind_stage4_ens22\", data = df, order = order, color = \"0.2\")"
   ]
  },
  {
   "cell_type": "markdown",
   "metadata": {},
   "source": [
    "So it doesn't look very good! The destroyed buildings were wxposed to an incident wind speed of about 25 m/s, but there were vastly more buildings exposed to higher wind speeds that suffered only minor impact, or no damage. And this is of the buildings that were surveyed. \n",
    "\n",
    "We can look at another ensemble member to see if this is consistent..."
   ]
  },
  {
   "cell_type": "code",
   "execution_count": null,
   "metadata": {},
   "outputs": [],
   "source": [
    "order = ['Destroyed - 76-100%', 'Severe Impact - 51-75%', 'Major Impact - 26-50%', 'Minor Impact - 1-25%', 'No Damage - 0%']\n",
    "sns.boxplot(y = \"EICU_Degdamage\", x = \"combined_alltimes_maxwind_stage4_ens12\", data = df, order = order)\n",
    "sns.swarmplot(y = \"EICU_Degdamage\", x = \"combined_alltimes_maxwind_stage4_ens12\", data = df, order = order, color = \"0.2\")"
   ]
  },
  {
   "cell_type": "markdown",
   "metadata": {},
   "source": [
    "The same result, albeit a slightly lower wind speed for the collection of destroyed buildings. This suggests that wind speed was not a significant factor in the damage sustained in this event, at least for the more severely destroyed buildings. \n",
    "\n",
    "But one thing that does stand out is the sudden onset of damage to buildings. This may be a feature of the event itself - i.e. the maximum winds were generally above about 20 m/s - or it may arise because of the vulnerability profile of building stock in the area. \n",
    "\n",
    "We now take a cursory look at the potential for a threshold of damage. We define a field that is 0 if the damage category is \"No Damage\" and 1 otherwise. Then do a basic regression plot of wind speed against damaged/not damaged."
   ]
  },
  {
   "cell_type": "code",
   "execution_count": null,
   "metadata": {},
   "outputs": [],
   "source": [
    "damaged = np.zeros(len(df))\n",
    "damaged[df['EICU_Degdamage'].isin(['Destroyed - 76-100%', \n",
    "                                 'Severe Impact - 51-75%', \n",
    "                                 'Major Impact - 26-50%', \n",
    "                                 'Minor Impact - 1-25%'])] = 1\n",
    "\n",
    "df['Damaged'] = damaged\n",
    "\n",
    "sns.lmplot(y = \"Damaged\", x = \"combined_alltimes_maxwind_stage4_ens12\", data = df,logistic=True, )\n"
   ]
  },
  {
   "cell_type": "markdown",
   "metadata": {},
   "source": [
    "This is explored in more detail in another notebook.\n",
    "\n"
   ]
  },
  {
   "cell_type": "code",
   "execution_count": null,
   "metadata": {},
   "outputs": [],
   "source": []
  }
 ],
 "metadata": {
  "kernelspec": {
   "display_name": "Python 3",
   "language": "python",
   "name": "python3"
  },
  "language_info": {
   "codemirror_mode": {
    "name": "ipython",
    "version": 3
   },
   "file_extension": ".py",
   "mimetype": "text/x-python",
   "name": "python",
   "nbconvert_exporter": "python",
   "pygments_lexer": "ipython3",
   "version": "3.7.3"
  }
 },
 "nbformat": 4,
 "nbformat_minor": 2
}
