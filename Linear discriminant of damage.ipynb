{
 "cells": [
  {
   "cell_type": "markdown",
   "metadata": {},
   "source": [
    "# Linear discriminant of damage\n",
    "\n",
    "This notebook explores the relationship between reported damage and a combination of wind and rainfall as hazard parameters. Consideration is given to using linear (or quadratic) discriminant analysis (e.g. Wilks, 1999) to determine thersholds for damage/no damage.\n"
   ]
  },
  {
   "cell_type": "code",
   "execution_count": null,
   "metadata": {},
   "outputs": [],
   "source": [
    "%matplotlib inline\n",
    "\n",
    "import os\n",
    "from os.path import join as pjoin\n",
    "\n",
    "import numpy as np\n",
    "import pandas as pd\n",
    "import geopandas as gpd\n",
    "\n",
    "import matplotlib.pyplot as plt\n",
    "\n",
    "import seaborn as sns\n"
   ]
  },
  {
   "cell_type": "code",
   "execution_count": null,
   "metadata": {},
   "outputs": [],
   "source": [
    "root_path = \"//prod.lan/active/ops/community_safety/georisk/\"\n",
    "data_path = r\"\\\\prod.lan\\active\\ops\\community_safety/georisk/HaRIA_B_Wind/projects/impact_forecasting/data/exposure/NSW/April_2015_Impact_Assessment\"\n",
    "#data_path = \"C:/WorkSpace/data/derived/exposure/NSW\"\n",
    "filename = \"Property_damage_cleaned.shp\" \n",
    "filepath = pjoin( data_path, filename)\n",
    "\n",
    "gdf = gpd.read_file(filepath)\n",
    "\n",
    "DMG_ORDER=['No Damage - 0%','Minor Impact - 1-25%', 'Major Impact - 26-50%', 'Severe Impact - 51-75%','Destroyed - 76-100%']\n"
   ]
  },
  {
   "cell_type": "markdown",
   "metadata": {},
   "source": [
    "We start with a simple scatter plot of the (dependent) categorical damage state against the independent variables (the forecast variables). Different damage states are coloured differently. There's clearly a lot of scatter and no discernable pattern here. "
   ]
  },
  {
   "cell_type": "code",
   "execution_count": null,
   "metadata": {},
   "outputs": [],
   "source": [
    "gdf.columns"
   ]
  },
  {
   "cell_type": "code",
   "execution_count": null,
   "metadata": {},
   "outputs": [],
   "source": [
    "sns.lmplot(x='PSWG', y='P1RR',hue='EICU_Degda', data=gdf, fit_reg=False, aspect=1.5,hue_order=DMG_ORDER)"
   ]
  },
  {
   "cell_type": "markdown",
   "metadata": {},
   "source": [
    "So let's group all damaged buildings into a single category, irrsepective of the level of damage. We add a new field to the damage state and assign it a value of 0 (not damaged) or 1 (damaged)."
   ]
  },
  {
   "cell_type": "code",
   "execution_count": null,
   "metadata": {},
   "outputs": [],
   "source": [
    "damaged = np.zeros(len(gdf))\n",
    "damaged[gdf['EICU_Degda'].isin(['Destroyed - 76-100%', \n",
    "                                 'Severe Impact - 51-75%', \n",
    "                                 'Major Impact - 26-50%', \n",
    "                                 ])] = 1\n",
    "\n",
    "gdf['Damaged'] = damaged\n",
    "\n",
    "sns.lmplot(x='maxwind', y='rainrate',hue='Damaged', data=gdf, fit_reg=False, aspect=1.5,)"
   ]
  },
  {
   "cell_type": "code",
   "execution_count": null,
   "metadata": {},
   "outputs": [],
   "source": [
    "X = np.array([gdf['maxwind'].values, gdf['rainrate'].values]).T\n",
    "y = damaged\n",
    "from sklearn.discriminant_analysis import LinearDiscriminantAnalysis, QuadraticDiscriminantAnalysis\n",
    "from matplotlib import colors\n",
    "clf = QuadraticDiscriminantAnalysis()\n",
    "clf.fit(X, y)"
   ]
  },
  {
   "cell_type": "code",
   "execution_count": null,
   "metadata": {},
   "outputs": [],
   "source": [
    "fig, ax = plt.subplots(1,1)\n",
    "ypred = clf.predict(X)\n",
    "Z = clf.predict_proba(X)\n",
    "cm = ax.scatter(X[:,0], X[:,1], c=Z[:,1], cmap='RdBu')\n",
    "plt.colorbar(cm)\n",
    "plt.xlabel(\"Maximum wind gust (m/s)\")\n",
    "plt.ylabel(\"Maximum rainfall rate (mm/hr)\")"
   ]
  },
  {
   "cell_type": "markdown",
   "metadata": {},
   "source": [
    "We now plot the results of the QDA as a contour surface, so we can see what happens towards the extrema of the values. "
   ]
  },
  {
   "cell_type": "code",
   "execution_count": null,
   "metadata": {},
   "outputs": [],
   "source": [
    "xx = np.linspace(0, 15, 1000)\n",
    "yy = np.linspace(0, 160, 1000)\n",
    "xp, yp = np.meshgrid(xx, yy)\n",
    "Z = clf.predict_proba(np.c_[xp.ravel(), yp.ravel()])\n",
    "Z = Z[:, 1].reshape(xp.shape)\n",
    "fig, ax = plt.subplots(1,1)\n",
    "cm = plt.pcolormesh(xp, yp, Z, cmap='cubehelix_r', norm=colors.Normalize(0., 1.))\n",
    "cs = plt.contour(xp, yp, Z, [0.05, 0.1, 0.25,0.5, 0.75], linewidths=2., colors='k')\n",
    "plt.clabel(cs, fmt='%.2f')\n",
    "plt.colorbar(cm, label=\"Probability of damage\")\n",
    "plt.xlabel(\"Maximum wind gust (m/s)\")\n",
    "plt.ylabel(\"Maximum rainfall rate (mm/hr)\")\n",
    "plt.title(\"Probability of damage\")"
   ]
  },
  {
   "cell_type": "markdown",
   "metadata": {},
   "source": [
    "Using a quadratic discriminant shows somewhat better realism, with decreasing probability for low wind speeds across the range of values of rainfall rate. But the lack of observations of high wind speed adversely affects the expected behaviour above about 8 m/s, where the probability of damage falls away with increasing wind speed.\n",
    "\n",
    "The only real solution in this situation is more observations. "
   ]
  },
  {
   "cell_type": "markdown",
   "metadata": {},
   "source": [
    "### More categories?\n",
    "\n",
    "We can extend this analysis to more categories. Assigning a value to the different damage states and performing a similar analysis means we can explore the probability of different damage states for a given pairing of incident wind speed and maximum rainfall rate. "
   ]
  },
  {
   "cell_type": "code",
   "execution_count": null,
   "metadata": {},
   "outputs": [],
   "source": [
    "damaged = np.zeros(len(gdf))\n",
    "damaged[gdf['EICU_Degda'].isin(['Major Impact - 26-50%'])] = 1\n",
    "damaged[gdf['EICU_Degda'].isin(['Severe Impact - 51-75%'])] = 2\n",
    "damaged[gdf['EICU_Degda'].isin(['Destroyed - 76-100%'])] = 3, \n",
    "\n",
    "\n",
    "gdf['Damaged'] = damaged\n",
    "\n",
    "sns.lmplot(x='maxwind', y='rainrate',hue='Damaged', data=gdf, fit_reg=False, aspect=1.5,)"
   ]
  },
  {
   "cell_type": "markdown",
   "metadata": {},
   "source": [
    "We perform the QDA in the same manner. The resulting fit will give a probability of each damage state, which we can plot as a contour set. "
   ]
  },
  {
   "cell_type": "code",
   "execution_count": null,
   "metadata": {},
   "outputs": [],
   "source": [
    "X = np.array([gdf['maxwind'].values, gdf['rainrate'].values]).T\n",
    "y = damaged\n",
    "clf = QuadraticDiscriminantAnalysis()\n",
    "clf.fit(X, y)"
   ]
  },
  {
   "cell_type": "code",
   "execution_count": null,
   "metadata": {},
   "outputs": [],
   "source": [
    "xx = np.linspace(0, 15, 1000)\n",
    "yy = np.linspace(0, 160, 1000)\n",
    "xp, yp = np.meshgrid(xx, yy)\n",
    "Z = clf.predict_proba(np.c_[xp.ravel(), yp.ravel()])\n",
    "fig, axes = plt.subplots(2,2, sharex=True, sharey=True, figsize=(10, 10))\n",
    "dmg_states = ['No', 'Major', 'Severe', 'Complete']\n",
    "for i, ax in enumerate(axes.flatten()):\n",
    "    s = Z[:, i].reshape(xp.shape)\n",
    "    cm = ax.pcolormesh(xp, yp, s, cmap='cubehelix_r', norm=colors.Normalize(0., 1.))\n",
    "    cs = ax.contour(xp, yp, s, [0.01, 0.05, 0.1, 0.25,0.5, 0.75], linewidths=2., colors='k')\n",
    "    ax.clabel(cs, fmt='%.2f')\n",
    "    #plt.colorbar(cm, label=\"Probability of {0} damage\".format(dmg_states[i]))\n",
    "    ax.set_xlabel(\"Maximum wind gust (m/s)\")\n",
    "    ax.set_ylabel(\"Maximum rainfall rate (mm/hr)\")\n",
    "    ax.set_title(\"{0} damage\".format(dmg_states[i]))\n",
    "\n",
    "    \n",
    "fig.subplots_adjust(right=0.8)\n",
    "cbar_ax = fig.add_axes([1.1, 0.15, 0.05, 0.7])\n",
    "fig.colorbar(cm, cax=cbar_ax, label=\"Probability of damage state\")\n",
    "fig.tight_layout()"
   ]
  },
  {
   "cell_type": "code",
   "execution_count": null,
   "metadata": {},
   "outputs": [],
   "source": [
    "clf.predict_proba(X)"
   ]
  },
  {
   "cell_type": "code",
   "execution_count": null,
   "metadata": {},
   "outputs": [],
   "source": [
    "f, axes = plt.subplots(2,3,sharex=True, sharey=True)\n",
    "\n",
    "for ax, dmgstate in zip(axes.flat, DMG_ORDER[0:]):\n",
    "    df = gdf[gdf['EICU_Degda']==dmgstate][['maxwind', 'rainrate']]\n",
    "    sns.kdeplot(df['maxwind'], df['rainrate'], ax=ax)\n",
    "    n = len(df)\n",
    "    ax.set_title(\"{0} (n={1})\".format(dmgstate, n), fontsize='small')\n",
    "    ax.set_xlim((0, 20))\n",
    "    ax.set_ylim((0, 160))\n",
    "f.tight_layout()"
   ]
  },
  {
   "cell_type": "markdown",
   "metadata": {},
   "source": [
    "So it looks like adding maximum rainfall rate (kg/m2/s) as a hazard parameter will not improve the discrimination of damage states. The peak density for the destroyed buildings (n=8) overlaps with the no damage density (n=1465), and is almost colocated with the peak for minor impact.\n",
    "\n",
    "Another option would be to explore accumulated rainfall amounts."
   ]
  },
  {
   "cell_type": "code",
   "execution_count": null,
   "metadata": {},
   "outputs": [],
   "source": [
    "gdf['roofdam'].unique()"
   ]
  },
  {
   "cell_type": "code",
   "execution_count": null,
   "metadata": {},
   "outputs": [],
   "source": [
    "ROOF_DMG_ORDER = ['Stable','Minor','Moderate','Severe']\n",
    "sns.lmplot(x='maxwind', y='rainrate',hue='roofdam', data=gdf, fit_reg=False, aspect=1,hue_order=ROOF_DMG_ORDER)"
   ]
  },
  {
   "cell_type": "code",
   "execution_count": null,
   "metadata": {},
   "outputs": [],
   "source": [
    "f, axes = plt.subplots(2,2,sharex=True, sharey=True)\n",
    "\n",
    "for ax, dmgstate in zip(axes.flat, ROOF_DMG_ORDER):\n",
    "    df = gdf[gdf['roofdam']==dmgstate][['maxwind', 'rainrate']]\n",
    "    n = len(df)\n",
    "    sns.jointplot(df['maxwind'], df['rainrate'],kind='kde', ax=ax)\n",
    "    ax.set_title(\"{0} (n={1})\".format(dmgstate, n))\n",
    "    ax.set_xlim((0, 20))\n",
    "    ax.set_ylim((0, 150))\n",
    "f.tight_layout()"
   ]
  },
  {
   "cell_type": "code",
   "execution_count": null,
   "metadata": {},
   "outputs": [],
   "source": [
    "gdf.groupby([ 'waterinund','roofdam','EICU_Degda']).agg('mean')['rainrate']"
   ]
  },
  {
   "cell_type": "code",
   "execution_count": null,
   "metadata": {},
   "outputs": [],
   "source": [
    "gdf.groupby([ 'waterinund','roofdam','EICU_Degda']).agg('mean')['maxwind']"
   ]
  },
  {
   "cell_type": "code",
   "execution_count": null,
   "metadata": {},
   "outputs": [],
   "source": [
    "gdf['EICU_Degda'].isin(['Severe Impact - 51-75%','Major Impact - 26-50%','Destroyed - 76-100%'])"
   ]
  },
  {
   "cell_type": "code",
   "execution_count": null,
   "metadata": {},
   "outputs": [],
   "source": []
  }
 ],
 "metadata": {
  "kernelspec": {
   "display_name": "Python 3",
   "language": "python",
   "name": "python3"
  },
  "language_info": {
   "codemirror_mode": {
    "name": "ipython",
    "version": 3
   },
   "file_extension": ".py",
   "mimetype": "text/x-python",
   "name": "python",
   "nbconvert_exporter": "python",
   "pygments_lexer": "ipython3",
   "version": "3.7.3"
  },
  "notify_time": "5"
 },
 "nbformat": 4,
 "nbformat_minor": 2
}
