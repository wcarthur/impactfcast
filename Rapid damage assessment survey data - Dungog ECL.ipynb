{
 "cells": [
  {
   "cell_type": "markdown",
   "metadata": {},
   "source": [
    "# EICU data from the Dungog East Coast Low"
   ]
  },
  {
   "cell_type": "markdown",
   "metadata": {},
   "source": [
    "This notebook imports and explores the cleaned up data from the EICU for the Dungug East Coast Low event. The data have been cleaned to remove empty fields, and an error in the lat/lon values for Medowie (where the lat and lon values were swapped). \n",
    "\n",
    "The working directory for this project is: \n",
    "\n",
    "*\\\\nas\\gemd\\georisk\\HaRIA_B_Wind\\projects\\impact_forecasting\\data\\exposure\\NSW\\April_2015_Impact_Assessment*\n",
    "\n",
    "**Date: August 2017, Creator: Claire Krause**"
   ]
  },
  {
   "cell_type": "markdown",
   "metadata": {},
   "source": [
    "The data have been combined with outputs from the BoM's high resolution Dungog East Coast Low model ensemble. The netcdf outputs from the model were converted to Geotiffs using gdal_translate \n",
    "\n",
    "`e.g. gdal_translate -of GTiff NETCDF:combined_alltimes_accum_ls_rainrate_stage4_ens00.nc:lsrain combined_alltimes_accum_ls_rainrate_stage4_ens00.tif`\n",
    "\n",
    "The Geotiffs were then read into ArcGIS, along side the EICU data. The model raster value at each EICU location was determined using the following code:\n",
    "\n",
    "`import arcpy\n",
    "from arcpy.sa import *\n",
    "arcpy.CheckOutExtension('Spatial')\n",
    "ExtractValuesToPoints(\"<observation_points>\", \"<TCRMwindfield>.tif\", \"<outputlayername>\", \"NONE\", \"VALUE_ONLY\")`\n",
    "\n",
    "The raster values were exported to a .txt file, and added to the final columns of the EICU data."
   ]
  },
  {
   "cell_type": "markdown",
   "metadata": {},
   "source": [
    "# Set up the notebook"
   ]
  },
  {
   "cell_type": "code",
   "execution_count": null,
   "metadata": {},
   "outputs": [],
   "source": [
    "%matplotlib inline\n",
    "import matplotlib.pyplot as plt\n",
    "import os\n",
    "from os.path import join as pjoin\n",
    "import pandas as pd\n",
    "import geopandas as gpd\n",
    "import numpy as np\n",
    "\n",
    "import seaborn as sns\n",
    "sns.set_context(\"talk\")\n",
    "sns.set_style(\"whitegrid\")\n",
    "sns.set_palette(\"hls\")"
   ]
  },
  {
   "cell_type": "markdown",
   "metadata": {},
   "source": [
    "# Start by reading in an exploring the dataset"
   ]
  },
  {
   "cell_type": "code",
   "execution_count": null,
   "metadata": {},
   "outputs": [],
   "source": [
    "data_path = \"X:/georisk/HaRIA_B_Wind/projects/impact_forecasting/data/impact/dungog\"\n",
    "filename = \"damage_hazard.shp\"\n",
    "filepath = pjoin(data_path, filename)\n",
    "\n",
    "df = gpd.read_file(filepath)\n",
    "df"
   ]
  },
  {
   "cell_type": "markdown",
   "metadata": {},
   "source": [
    "### List of column headings"
   ]
  },
  {
   "cell_type": "code",
   "execution_count": null,
   "metadata": {},
   "outputs": [],
   "source": [
    "df.columns"
   ]
  },
  {
   "cell_type": "markdown",
   "metadata": {},
   "source": [
    "# Just do some quick cleaning up of the data"
   ]
  },
  {
   "cell_type": "markdown",
   "metadata": {},
   "source": [
    "There are a number of blank fields throughout the data where a value was not entered into the dataset by the assessor. We need to keep track of the missing data, as well as the entered data, so we will find all 'NaN' values in the dataset, and change these to 'Not given' so we can include them in subsequent analyses. "
   ]
  },
  {
   "cell_type": "code",
   "execution_count": null,
   "metadata": {},
   "outputs": [],
   "source": [
    "df = df.fillna('Not given')"
   ]
  },
  {
   "cell_type": "markdown",
   "metadata": {},
   "source": [
    "### How many entries do we have for each column?\n",
    "I.e. not NaN. Note that this does not check the contents of the field, only that something was written into it\n",
    "\n",
    "NB: Something isn't quite working here. Use the values listed in the text below, not the outputs from this cell"
   ]
  },
  {
   "cell_type": "code",
   "execution_count": null,
   "metadata": {},
   "outputs": [],
   "source": [
    "df.count()"
   ]
  },
  {
   "cell_type": "markdown",
   "metadata": {},
   "source": [
    "# EICU data for the Hunter Region ECL event:\n",
    "\n",
    "* Number of data entries = 2072\n",
    "* Lat/lon = 2062 (99.5%)\n",
    "* EICU_Degdamage - damage state rank = 2055 (99.2%)\n",
    "* Insurance state = 1821 (88%)\n",
    "* Building use = 1909 (92%)\n",
    "* Foundations / Structure / Roof type = 1821 (88%)\n",
    "* Water inundation = 1317 (64%)\n",
    "* Water level = 203 (10%)"
   ]
  },
  {
   "cell_type": "markdown",
   "metadata": {},
   "source": [
    "# Lets explore some key fields in more detail..."
   ]
  },
  {
   "cell_type": "code",
   "execution_count": null,
   "metadata": {},
   "outputs": [],
   "source": [
    "damage = df.groupby('EICU_Degda').count()\n",
    "damage.OBJECTID"
   ]
  },
  {
   "cell_type": "markdown",
   "metadata": {},
   "source": [
    "## Damage and water?"
   ]
  },
  {
   "cell_type": "code",
   "execution_count": null,
   "metadata": {},
   "outputs": [],
   "source": [
    "order = ['No Damage - 0%', 'Minor Impact - 1-25%', 'Major Impact - 26-50%', 'Severe Impact - 51-75%', 'Destroyed - 76-100%']\n",
    "ax = sns.countplot(x=\"EICU_Degda\", hue=\"waterinund\", data=df, order=order)\n",
    "ax.legend(title=\"Water Damage?\", loc=1)\n",
    "ax.set_yscale(\"log\", nonposy='clip')\n",
    "plt.xticks(rotation=10)\n",
    "plt.title('Damage State and presence of water')\n",
    "plt.xlabel('Damage state')"
   ]
  },
  {
   "cell_type": "markdown",
   "metadata": {},
   "source": [
    "There does seem to be some relationship between the presence of water and damage state. Note that the last two columns represent missing vales, and where the surveyor has selected 'not applicable'."
   ]
  },
  {
   "cell_type": "markdown",
   "metadata": {},
   "source": [
    "## Damage by roof type"
   ]
  },
  {
   "cell_type": "code",
   "execution_count": null,
   "metadata": {},
   "outputs": [],
   "source": [
    "temp = []\n",
    "for name, group in df.groupby('EICU_Degda'):\n",
    "    numingroup = group['OBJECTID'].count()\n",
    "    numroofs = group.groupby('roof').count()\n",
    "    percroofs = numroofs['OBJECTID']/numingroup*100\n",
    "    for keys in percroofs.keys():\n",
    "        temp.append((name, keys, percroofs[keys]))\n",
    "\n",
    "roofdamage = pd.DataFrame(temp, columns = ['Damage_state', 'Roof_type', 'Percent'])\n",
    "roofdamage"
   ]
  },
  {
   "cell_type": "code",
   "execution_count": null,
   "metadata": {},
   "outputs": [],
   "source": [
    "order = ['No Damage - 0%', 'Minor Impact - 1-25%', 'Major Impact - 26-50%', 'Severe Impact - 51-75%', 'Destroyed - 76-100%']\n",
    "ax = sns.factorplot(x=\"Damage_state\", y = 'Percent', hue=\"Roof_type\", data=roofdamage, order=order, kind = 'bar', size = 10)\n",
    "plt.xticks(rotation=10)\n",
    "plt.title('Damage state and roof type')\n",
    "plt.ylabel('Percent of damage category')\n",
    "plt.xlabel('Damage state')"
   ]
  },
  {
   "cell_type": "markdown",
   "metadata": {},
   "source": [
    "## Damage by wall structure type"
   ]
  },
  {
   "cell_type": "code",
   "execution_count": null,
   "metadata": {},
   "outputs": [],
   "source": [
    "temp = []\n",
    "for name, group in df.groupby('EICU_Degda'):\n",
    "    numingroup = group['OBJECTID'].count()\n",
    "    numroofs = group.groupby('structure_').count()\n",
    "    percroofs = numroofs['OBJECTID']/numingroup*100\n",
    "    for keys in percroofs.keys():\n",
    "        temp.append((name, keys, percroofs[keys]))\n",
    "\n",
    "structuredamage = pd.DataFrame(temp, columns = ['Damage_state', 'Structure_type', 'Percent'])\n",
    "structuredamage"
   ]
  },
  {
   "cell_type": "code",
   "execution_count": null,
   "metadata": {},
   "outputs": [],
   "source": [
    "order = ['No Damage - 0%', 'Minor Impact - 1-25%', 'Major Impact - 26-50%', 'Severe Impact - 51-75%', 'Destroyed - 76-100%']\n",
    "ax = sns.factorplot(x=\"Damage_state\", y = 'Percent', hue=\"Structure_type\", data=structuredamage, order=order, \n",
    "                    kind = 'bar', size = 10)\n",
    "plt.xticks(rotation=10)\n",
    "plt.title('Damage state and structure type')\n",
    "plt.ylabel('Percent of damage category')\n",
    "plt.xlabel('Damage state')"
   ]
  },
  {
   "cell_type": "markdown",
   "metadata": {},
   "source": [
    "# Can we find wind damage specifically?"
   ]
  },
  {
   "cell_type": "code",
   "execution_count": null,
   "metadata": {},
   "outputs": [],
   "source": [
    "order = ['No Damage - 0%', 'Minor Impact - 1-25%', 'Major Impact - 26-50%', 'Severe Impact - 51-75%', 'Destroyed - 76-100%']\n",
    "ax = sns.countplot(x=\"EICU_Degda\", hue=\"eventtype\", data=df, order=order)\n",
    "ax.legend(title=\"Damage event\", loc=1)\n",
    "ax.set_yscale(\"log\", nonposy='clip')\n",
    "plt.xticks(rotation=10)\n",
    "plt.title('Damage States for flood vs storm')\n",
    "plt.xlabel('Damage state')"
   ]
  },
  {
   "cell_type": "markdown",
   "metadata": {},
   "source": [
    "# <font color=red>Question for follow up with NSWFR</font>\n",
    "\n",
    "It may be possible to distinguish between flood and storm damage, however it is not clear whether 'flood' damage refers specifically to riverine flooding, or whether water damage from a leaking roof is also classified as flood. "
   ]
  },
  {
   "cell_type": "code",
   "execution_count": null,
   "metadata": {},
   "outputs": [],
   "source": [
    "order = ['Stable', 'Minor', 'Moderate', 'Severe']\n",
    "ax = sns.countplot(x=\"roofdam\", hue=\"waterinund\", data=df, order = order)\n",
    "ax.legend(title=\"Water Damage?\")\n",
    "ax.set_yscale(\"log\", nonposy='clip')\n",
    "plt.xticks(rotation=10)\n",
    "plt.title('Roof damage State and presence of water')\n",
    "plt.xlabel('Roof damage state')"
   ]
  },
  {
   "cell_type": "code",
   "execution_count": null,
   "metadata": {},
   "outputs": [],
   "source": [
    "order = ['Stable', 'Minor', 'Moderate', 'Severe']\n",
    "ax = sns.countplot(x=\"roofdam\", hue=\"eventtype\", data=df, order = order)\n",
    "ax.legend(title=\"Event type\")\n",
    "ax.set_yscale(\"log\", nonposy='clip')\n",
    "plt.xticks(rotation=10)\n",
    "plt.title('Roof damage State and presence of water')\n",
    "plt.xlabel('Roof damage state')"
   ]
  },
  {
   "cell_type": "markdown",
   "metadata": {},
   "source": [
    "No building with roof damage state listed attributes the damage to storm. This suggests that 'flood' is being used to describe any type of water damage, whether it is rising water, or water coming into the house another way. \n",
    "\n",
    "This is problematic, as it means it isn't possible to use the 'event type' tag to distinguish between these two scenarios."
   ]
  },
  {
   "cell_type": "markdown",
   "metadata": {},
   "source": [
    "## NB\n",
    "Wind damage doesn't seem to be discernable from this dataset. Roof damage could be used a pseudo-proxy for storm damage, however it is not specifically marked as storm damage in the database. For all of the entries that have roof damage assessed, all of them list the event type as 'flood', not 'storm'. This suggests that water ingress from damaged roofs is classed as flood damage, not storm damage for this event."
   ]
  },
  {
   "cell_type": "markdown",
   "metadata": {},
   "source": [
    "# Can we generate a vulnerability-like curve of damage state and modelled wind?"
   ]
  },
  {
   "cell_type": "markdown",
   "metadata": {},
   "source": [
    "Wind speed was output at each model time step in the ECL event ensemble simulations. These plots use the maximum wind speed over the all time steps for each grid point.\n",
    "\n",
    "In the first instance, two individual ensemble members (randomly chosen) were interrogated. It was found that these did not differ greatly, and so additional members were not further investigated."
   ]
  },
  {
   "cell_type": "markdown",
   "metadata": {},
   "source": [
    "## The model outputs sustained wind speed. We would like to convert this to wind gust.\n",
    "\n",
    "To do this, we applied a gust conversion factor of 1.6 to see if this improved the results."
   ]
  },
  {
   "cell_type": "code",
   "execution_count": null,
   "metadata": {},
   "outputs": [],
   "source": [
    "#df['combined_alltimes_maxwind_stage4_ens12'] = df['combined_alltimes_maxwind_stage4_ens12'] * 1.6\n",
    "#df['combined_alltimes_maxwind_stage4_ens22'] = df['combined_alltimes_maxwind_stage4_ens22'] * 1.6"
   ]
  },
  {
   "cell_type": "code",
   "execution_count": null,
   "metadata": {},
   "outputs": [],
   "source": [
    "order = ['Destroyed - 76-100%', 'Severe Impact - 51-75%', 'Major Impact - 26-50%', 'Minor Impact - 1-25%', 'No Damage - 0%']\n",
    "sns.boxplot(y = \"EICU_Degda\", x = \"PSWG\", data = df, order = order)\n",
    "sns.swarmplot(y = \"EICU_Degda\", x = \"PSWG\", data = df, order = order, color = \"0.2\")\n",
    "plt.xlabel(\"Surface gust wind speed (m/s)\")\n",
    "plt.ylabel(\"Damage state\")"
   ]
  },
  {
   "cell_type": "code",
   "execution_count": null,
   "metadata": {},
   "outputs": [],
   "source": [
    "order = ['Destroyed - 76-100%', 'Severe Impact - 51-75%', 'Major Impact - 26-50%', 'Minor Impact - 1-25%', 'No Damage - 0%']\n",
    "sns.boxplot(y = \"EICU_Degda\", x = \"PSWG\", data = df, order = order)\n",
    "sns.swarmplot(y = \"EICU_Degda\", x = \"PSWG\", data = df, order = order, color = \"0.2\")\n",
    "plt.xlabel(\"Surface gust wind speed (m/s)\")\n",
    "plt.ylabel(\"Damage state\")"
   ]
  },
  {
   "cell_type": "markdown",
   "metadata": {},
   "source": [
    "When the gust factor is applied, there emerges a threshold-like response to wind speed at around 12 m/s (43 km/hr). The damage relationship however, doesn't increase with increasing wind. The greatest wind speeds are not experienced by the buildings that sustained the greatest damage. \n",
    "\n",
    "This suggests that wind may not be the driving factor in generating damage in this event. "
   ]
  },
  {
   "cell_type": "markdown",
   "metadata": {},
   "source": [
    "# How about rain?\n",
    "\n",
    "Is it possible that rain is the factor driving the damage in this event?\n",
    "\n",
    "The rain rate (kg m-2 s-1) was output for each model time step, and the maximum rain rate throughout the model run was extracted. Again, two random ensemble members were chosen for initial investigation."
   ]
  },
  {
   "cell_type": "code",
   "execution_count": null,
   "metadata": {},
   "outputs": [],
   "source": [
    "order = ['Destroyed - 76-100%', 'Severe Impact - 51-75%', 'Major Impact - 26-50%', 'Minor Impact - 1-25%', 'No Damage - 0%']\n",
    "sns.boxplot(y = \"EICU_Degda\", x = \"P6RR\", data = df, order = order)\n",
    "sns.swarmplot(y = \"EICU_Degda\", x = \"P6RR\", data = df, order = order, \n",
    "              color = \"0.2\")\n",
    "plt.xlabel(\"Maximum 6-hour rainfall rate (mm/6hrs)\")\n",
    "plt.ylabel(\"Damage state\")"
   ]
  },
  {
   "cell_type": "code",
   "execution_count": null,
   "metadata": {},
   "outputs": [],
   "source": [
    "order = ['Destroyed - 76-100%', 'Severe Impact - 51-75%', 'Major Impact - 26-50%', 'Minor Impact - 1-25%', 'No Damage - 0%']\n",
    "sns.boxplot(y = \"EICU_Degda\", x = \"PTEA\", data = df, order = order)\n",
    "sns.swarmplot(y = \"EICU_Degda\", x = \"PTEA\", data = df, order = order, \n",
    "              color = \"0.2\")\n",
    "plt.xlabel(\"Total accumulated precipitation (mm)\")\n",
    "plt.ylabel(\"Damage state\")"
   ]
  },
  {
   "cell_type": "markdown",
   "metadata": {},
   "source": [
    "The results from the two ensemble members are quite different, suggesting that this variable is much more spatially variable. To address this, we extracted the maximum rain rate for each ensemble member, then calculated the average of those rain rates for each grid box. "
   ]
  },
  {
   "cell_type": "markdown",
   "metadata": {},
   "source": [
    "## Ensemble mean rain rate over all time steps"
   ]
  },
  {
   "cell_type": "code",
   "execution_count": null,
   "metadata": {},
   "outputs": [],
   "source": [
    "order = ['Destroyed - 76-100%', 'Severe Impact - 51-75%', 'Major Impact - 26-50%', 'Minor Impact - 1-25%', 'No Damage - 0%']\n",
    "sns.boxplot(y = \"EICU_Degdamage\", x = \"combined_alltimes_accum_ls_rainrate_stage4_ensMEAN\", data = df, order = order)\n",
    "sns.swarmplot(y = \"EICU_Degdamage\", x = \"combined_alltimes_accum_ls_rainrate_stage4_ensMEAN\", data = df, order = order, \n",
    "              color = \"0.2\")"
   ]
  },
  {
   "cell_type": "markdown",
   "metadata": {},
   "source": [
    "## Ensemble standard deviation of rain rate over all ensemble members"
   ]
  },
  {
   "cell_type": "code",
   "execution_count": null,
   "metadata": {},
   "outputs": [],
   "source": [
    "order = ['Destroyed - 76-100%', 'Severe Impact - 51-75%', 'Major Impact - 26-50%', 'Minor Impact - 1-25%', 'No Damage - 0%']\n",
    "sns.boxplot(y = \"EICU_Degdamage\", x = \"combined_alltimes_accum_ls_rainrate_stage4_ensSTD\", data = df, order = order)\n",
    "sns.swarmplot(y = \"EICU_Degdamage\", x = \"combined_alltimes_accum_ls_rainrate_stage4_ensSTD\", data = df, order = order, \n",
    "              color = \"0.2\")"
   ]
  },
  {
   "cell_type": "markdown",
   "metadata": {},
   "source": [
    "# Results\n",
    "\n",
    "#### The relationship between damage and rain rate looks much more convincing than with wind. This suggests that it was the rainfall that was the driver of damamge in this event. \n",
    "\n",
    "#### This makes sense, as the design wind speed for houses is 38-40 m/s, which is the upper limit of modelled wind speeds for building locations. It is therefore not likely that the wind speed was sufficiently high enough to break apart houses. \n",
    "\n",
    "#### The much more logical solution is that the rain rate caused water ingress to houses, either directly through weaknesses in the structure, or through damage to the building's exterior caused by trees falling."
   ]
  },
  {
   "cell_type": "markdown",
   "metadata": {},
   "source": [
    "# Can we find any relationship between tree damage and wind speed?"
   ]
  },
  {
   "cell_type": "markdown",
   "metadata": {},
   "source": [
    "## Locations where 'dangertree' column has been ticked"
   ]
  },
  {
   "cell_type": "code",
   "execution_count": null,
   "metadata": {},
   "outputs": [],
   "source": [
    "tree_text = df[df['dangertree'].str.contains('Yes')]\n",
    "tree_text.shape"
   ]
  },
  {
   "cell_type": "code",
   "execution_count": null,
   "metadata": {},
   "outputs": [],
   "source": [
    "sns.distplot(tree_text.combined_alltimes_maxwind_stage4_ens12)\n",
    "plt.title('Histogram of wind speeds for entries with the \\'dangertree\\' column ticked')\n",
    "plt.xlabel('Wind speed (gust factor = 1.6, m/s)')"
   ]
  },
  {
   "cell_type": "markdown",
   "metadata": {},
   "source": [
    "## Look for terms relating to tree in the comments field"
   ]
  },
  {
   "cell_type": "code",
   "execution_count": null,
   "metadata": {},
   "outputs": [],
   "source": [
    "tree_text = df[df['Comments'].str.contains('tree|branch', case = False)]\n",
    "tree_text.shape"
   ]
  },
  {
   "cell_type": "code",
   "execution_count": null,
   "metadata": {},
   "outputs": [],
   "source": [
    "sns.distplot(tree_text.combined_alltimes_maxwind_stage4_ens12)\n",
    "plt.title('Histogram of wind speeds for entries with \\'tree\\' or \\'branch\\' mentioned in the comments')\n",
    "plt.xlabel('Wind speed (gust factor = 1.6, m/s)')"
   ]
  },
  {
   "cell_type": "code",
   "execution_count": null,
   "metadata": {},
   "outputs": [],
   "source": []
  }
 ],
 "metadata": {
  "kernelspec": {
   "display_name": "Python 3",
   "language": "python",
   "name": "python3"
  },
  "language_info": {
   "codemirror_mode": {
    "name": "ipython",
    "version": 3
   },
   "file_extension": ".py",
   "mimetype": "text/x-python",
   "name": "python",
   "nbconvert_exporter": "python",
   "pygments_lexer": "ipython3",
   "version": "3.7.3"
  }
 },
 "nbformat": 4,
 "nbformat_minor": 2
}
